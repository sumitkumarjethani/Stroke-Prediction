{
 "cells": [
  {
   "cell_type": "markdown",
   "id": "475568d5",
   "metadata": {
    "papermill": {
     "duration": 0.0106,
     "end_time": "2023-02-06T18:34:22.893306",
     "exception": false,
     "start_time": "2023-02-06T18:34:22.882706",
     "status": "completed"
    },
    "tags": []
   },
   "source": [
    "## Importación de las librerías"
   ]
  },
  {
   "cell_type": "code",
   "execution_count": 1,
   "id": "54d787bd",
   "metadata": {
    "execution": {
     "iopub.execute_input": "2023-02-06T18:34:22.912517Z",
     "iopub.status.busy": "2023-02-06T18:34:22.911436Z",
     "iopub.status.idle": "2023-02-06T18:34:24.156898Z",
     "shell.execute_reply": "2023-02-06T18:34:24.155359Z"
    },
    "papermill": {
     "duration": 1.258742,
     "end_time": "2023-02-06T18:34:24.160204",
     "exception": false,
     "start_time": "2023-02-06T18:34:22.901462",
     "status": "completed"
    },
    "tags": []
   },
   "outputs": [],
   "source": [
    "import pandas as pd\n",
    "import numpy as np\n",
    "import seaborn as sns\n",
    "\n",
    "sns.set_theme(style=\"whitegrid\")"
   ]
  },
  {
   "cell_type": "markdown",
   "id": "8d4a361f",
   "metadata": {
    "papermill": {
     "duration": 0.007154,
     "end_time": "2023-02-06T18:34:24.175164",
     "exception": false,
     "start_time": "2023-02-06T18:34:24.168010",
     "status": "completed"
    },
    "tags": []
   },
   "source": [
    "## Importación del dataset"
   ]
  },
  {
   "cell_type": "markdown",
   "id": "d1d294bf",
   "metadata": {
    "papermill": {
     "duration": 0.006728,
     "end_time": "2023-02-06T18:34:24.189024",
     "exception": false,
     "start_time": "2023-02-06T18:34:24.182296",
     "status": "completed"
    },
    "tags": []
   },
   "source": [
    "Variables:\n",
    "- id: identificador único\n",
    "- gender: \"Masculino\", \"Femenino\" u \"Otro\".\n",
    "- age: edad del paciente\n",
    "- hypertension: 0 si el paciente no tiene hipertensión, 1 si el paciente tiene hipertensión\n",
    "- heart_disease: 0 si el paciente no tiene ninguna cardiopatía, 1 si el paciente tiene una cardiopatía\n",
    "- ever_married: \"No\" o \"Sí\"\n",
    "- work_type: \"niños\", \"Govt_jov\", \"Nunca_trabajó\", \"Privado\" o \"Autónomo\"\n",
    "- residence_type: \"Rural\" o \"Urbana\"\n",
    "- avg_glucose_level: nivel medio de glucosa en sangre\n",
    "- bmi: índice de masa corporal\n",
    "- smoking_status: \"antes fumaba\", \"nunca ha fumado\", \"fuma\" o \"desconocido\". \"Desconocido\" significa que la información no está disponible para este paciente\n",
    "- stroke: 1 si el paciente sufrió un ictus o 0 en caso contrario"
   ]
  },
  {
   "cell_type": "code",
   "execution_count": 2,
   "id": "e7f0a53c",
   "metadata": {
    "execution": {
     "iopub.execute_input": "2023-02-06T18:34:24.204847Z",
     "iopub.status.busy": "2023-02-06T18:34:24.204367Z",
     "iopub.status.idle": "2023-02-06T18:34:24.276938Z",
     "shell.execute_reply": "2023-02-06T18:34:24.275745Z"
    },
    "papermill": {
     "duration": 0.08386,
     "end_time": "2023-02-06T18:34:24.279810",
     "exception": false,
     "start_time": "2023-02-06T18:34:24.195950",
     "status": "completed"
    },
    "tags": []
   },
   "outputs": [
    {
     "data": {
      "text/html": [
       "<div>\n",
       "<style scoped>\n",
       "    .dataframe tbody tr th:only-of-type {\n",
       "        vertical-align: middle;\n",
       "    }\n",
       "\n",
       "    .dataframe tbody tr th {\n",
       "        vertical-align: top;\n",
       "    }\n",
       "\n",
       "    .dataframe thead th {\n",
       "        text-align: right;\n",
       "    }\n",
       "</style>\n",
       "<table border=\"1\" class=\"dataframe\">\n",
       "  <thead>\n",
       "    <tr style=\"text-align: right;\">\n",
       "      <th></th>\n",
       "      <th>id</th>\n",
       "      <th>gender</th>\n",
       "      <th>age</th>\n",
       "      <th>hypertension</th>\n",
       "      <th>heart_disease</th>\n",
       "      <th>ever_married</th>\n",
       "      <th>work_type</th>\n",
       "      <th>Residence_type</th>\n",
       "      <th>avg_glucose_level</th>\n",
       "      <th>bmi</th>\n",
       "      <th>smoking_status</th>\n",
       "      <th>stroke</th>\n",
       "    </tr>\n",
       "  </thead>\n",
       "  <tbody>\n",
       "    <tr>\n",
       "      <th>0</th>\n",
       "      <td>9046</td>\n",
       "      <td>Male</td>\n",
       "      <td>67.0</td>\n",
       "      <td>0</td>\n",
       "      <td>1</td>\n",
       "      <td>Yes</td>\n",
       "      <td>Private</td>\n",
       "      <td>Urban</td>\n",
       "      <td>228.69</td>\n",
       "      <td>36.6</td>\n",
       "      <td>formerly smoked</td>\n",
       "      <td>1</td>\n",
       "    </tr>\n",
       "    <tr>\n",
       "      <th>1</th>\n",
       "      <td>51676</td>\n",
       "      <td>Female</td>\n",
       "      <td>61.0</td>\n",
       "      <td>0</td>\n",
       "      <td>0</td>\n",
       "      <td>Yes</td>\n",
       "      <td>Self-employed</td>\n",
       "      <td>Rural</td>\n",
       "      <td>202.21</td>\n",
       "      <td>NaN</td>\n",
       "      <td>never smoked</td>\n",
       "      <td>1</td>\n",
       "    </tr>\n",
       "    <tr>\n",
       "      <th>2</th>\n",
       "      <td>31112</td>\n",
       "      <td>Male</td>\n",
       "      <td>80.0</td>\n",
       "      <td>0</td>\n",
       "      <td>1</td>\n",
       "      <td>Yes</td>\n",
       "      <td>Private</td>\n",
       "      <td>Rural</td>\n",
       "      <td>105.92</td>\n",
       "      <td>32.5</td>\n",
       "      <td>never smoked</td>\n",
       "      <td>1</td>\n",
       "    </tr>\n",
       "    <tr>\n",
       "      <th>3</th>\n",
       "      <td>60182</td>\n",
       "      <td>Female</td>\n",
       "      <td>49.0</td>\n",
       "      <td>0</td>\n",
       "      <td>0</td>\n",
       "      <td>Yes</td>\n",
       "      <td>Private</td>\n",
       "      <td>Urban</td>\n",
       "      <td>171.23</td>\n",
       "      <td>34.4</td>\n",
       "      <td>smokes</td>\n",
       "      <td>1</td>\n",
       "    </tr>\n",
       "    <tr>\n",
       "      <th>4</th>\n",
       "      <td>1665</td>\n",
       "      <td>Female</td>\n",
       "      <td>79.0</td>\n",
       "      <td>1</td>\n",
       "      <td>0</td>\n",
       "      <td>Yes</td>\n",
       "      <td>Self-employed</td>\n",
       "      <td>Rural</td>\n",
       "      <td>174.12</td>\n",
       "      <td>24.0</td>\n",
       "      <td>never smoked</td>\n",
       "      <td>1</td>\n",
       "    </tr>\n",
       "  </tbody>\n",
       "</table>\n",
       "</div>"
      ],
      "text/plain": [
       "      id  gender   age  hypertension  heart_disease ever_married  \\\n",
       "0   9046    Male  67.0             0              1          Yes   \n",
       "1  51676  Female  61.0             0              0          Yes   \n",
       "2  31112    Male  80.0             0              1          Yes   \n",
       "3  60182  Female  49.0             0              0          Yes   \n",
       "4   1665  Female  79.0             1              0          Yes   \n",
       "\n",
       "       work_type Residence_type  avg_glucose_level   bmi   smoking_status  \\\n",
       "0        Private          Urban             228.69  36.6  formerly smoked   \n",
       "1  Self-employed          Rural             202.21   NaN     never smoked   \n",
       "2        Private          Rural             105.92  32.5     never smoked   \n",
       "3        Private          Urban             171.23  34.4           smokes   \n",
       "4  Self-employed          Rural             174.12  24.0     never smoked   \n",
       "\n",
       "   stroke  \n",
       "0       1  \n",
       "1       1  \n",
       "2       1  \n",
       "3       1  \n",
       "4       1  "
      ]
     },
     "execution_count": 2,
     "metadata": {},
     "output_type": "execute_result"
    }
   ],
   "source": [
    "stroke_df = pd.read_csv('/kaggle/input/stroke-prediction-dataset/healthcare-dataset-stroke-data.csv')\n",
    "stroke_df.head()"
   ]
  },
  {
   "cell_type": "markdown",
   "id": "e2d6a56c",
   "metadata": {
    "papermill": {
     "duration": 0.007105,
     "end_time": "2023-02-06T18:34:24.294248",
     "exception": false,
     "start_time": "2023-02-06T18:34:24.287143",
     "status": "completed"
    },
    "tags": []
   },
   "source": [
    "Número de filas y variables"
   ]
  },
  {
   "cell_type": "code",
   "execution_count": 3,
   "id": "4ddd5ef3",
   "metadata": {
    "execution": {
     "iopub.execute_input": "2023-02-06T18:34:24.311905Z",
     "iopub.status.busy": "2023-02-06T18:34:24.311071Z",
     "iopub.status.idle": "2023-02-06T18:34:24.317573Z",
     "shell.execute_reply": "2023-02-06T18:34:24.316746Z"
    },
    "papermill": {
     "duration": 0.018221,
     "end_time": "2023-02-06T18:34:24.319729",
     "exception": false,
     "start_time": "2023-02-06T18:34:24.301508",
     "status": "completed"
    },
    "tags": []
   },
   "outputs": [
    {
     "data": {
      "text/plain": [
       "(5110, 12)"
      ]
     },
     "execution_count": 3,
     "metadata": {},
     "output_type": "execute_result"
    }
   ],
   "source": [
    "stroke_df.shape"
   ]
  },
  {
   "cell_type": "markdown",
   "id": "e097a807",
   "metadata": {
    "papermill": {
     "duration": 0.008199,
     "end_time": "2023-02-06T18:34:24.335209",
     "exception": false,
     "start_time": "2023-02-06T18:34:24.327010",
     "status": "completed"
    },
    "tags": []
   },
   "source": [
    "## Análisis exploratorio de los datos"
   ]
  },
  {
   "cell_type": "markdown",
   "id": "3c137410",
   "metadata": {
    "papermill": {
     "duration": 0.006887,
     "end_time": "2023-02-06T18:34:24.349322",
     "exception": false,
     "start_time": "2023-02-06T18:34:24.342435",
     "status": "completed"
    },
    "tags": []
   },
   "source": [
    "### Descripción inicial"
   ]
  },
  {
   "cell_type": "markdown",
   "id": "fed9e43f",
   "metadata": {
    "papermill": {
     "duration": 0.006786,
     "end_time": "2023-02-06T18:34:24.363395",
     "exception": false,
     "start_time": "2023-02-06T18:34:24.356609",
     "status": "completed"
    },
    "tags": []
   },
   "source": [
    "Descripción inicial de las columnas del dataframe.\n",
    "\n",
    "- La variable id se puede borrar, ya que no aportará nada relevante en la predicción \n",
    "- En la variable bmi existen valores perdidos\n",
    "- hypertension es una variable categorica binaria (0 o 1)\n",
    "- heart_disease es una variable categorica binaria (0 o 1)"
   ]
  },
  {
   "cell_type": "code",
   "execution_count": 4,
   "id": "1bfef457",
   "metadata": {
    "execution": {
     "iopub.execute_input": "2023-02-06T18:34:24.380663Z",
     "iopub.status.busy": "2023-02-06T18:34:24.379792Z",
     "iopub.status.idle": "2023-02-06T18:34:24.412854Z",
     "shell.execute_reply": "2023-02-06T18:34:24.411241Z"
    },
    "papermill": {
     "duration": 0.046553,
     "end_time": "2023-02-06T18:34:24.417271",
     "exception": false,
     "start_time": "2023-02-06T18:34:24.370718",
     "status": "completed"
    },
    "tags": []
   },
   "outputs": [
    {
     "name": "stdout",
     "output_type": "stream",
     "text": [
      "<class 'pandas.core.frame.DataFrame'>\n",
      "RangeIndex: 5110 entries, 0 to 5109\n",
      "Data columns (total 12 columns):\n",
      " #   Column             Non-Null Count  Dtype  \n",
      "---  ------             --------------  -----  \n",
      " 0   id                 5110 non-null   int64  \n",
      " 1   gender             5110 non-null   object \n",
      " 2   age                5110 non-null   float64\n",
      " 3   hypertension       5110 non-null   int64  \n",
      " 4   heart_disease      5110 non-null   int64  \n",
      " 5   ever_married       5110 non-null   object \n",
      " 6   work_type          5110 non-null   object \n",
      " 7   Residence_type     5110 non-null   object \n",
      " 8   avg_glucose_level  5110 non-null   float64\n",
      " 9   bmi                4909 non-null   float64\n",
      " 10  smoking_status     5110 non-null   object \n",
      " 11  stroke             5110 non-null   int64  \n",
      "dtypes: float64(3), int64(4), object(5)\n",
      "memory usage: 479.2+ KB\n"
     ]
    }
   ],
   "source": [
    "stroke_df.info()"
   ]
  },
  {
   "cell_type": "markdown",
   "id": "66428506",
   "metadata": {
    "papermill": {
     "duration": 0.009096,
     "end_time": "2023-02-06T18:34:24.437818",
     "exception": false,
     "start_time": "2023-02-06T18:34:24.428722",
     "status": "completed"
    },
    "tags": []
   },
   "source": [
    "Borramos la variable id"
   ]
  },
  {
   "cell_type": "code",
   "execution_count": 5,
   "id": "ba1cf63d",
   "metadata": {
    "execution": {
     "iopub.execute_input": "2023-02-06T18:34:24.460923Z",
     "iopub.status.busy": "2023-02-06T18:34:24.459860Z",
     "iopub.status.idle": "2023-02-06T18:34:24.468055Z",
     "shell.execute_reply": "2023-02-06T18:34:24.466754Z"
    },
    "papermill": {
     "duration": 0.024494,
     "end_time": "2023-02-06T18:34:24.471123",
     "exception": false,
     "start_time": "2023-02-06T18:34:24.446629",
     "status": "completed"
    },
    "tags": []
   },
   "outputs": [],
   "source": [
    "del stroke_df['id']"
   ]
  },
  {
   "cell_type": "markdown",
   "id": "33e253ff",
   "metadata": {
    "papermill": {
     "duration": 0.007525,
     "end_time": "2023-02-06T18:34:24.486640",
     "exception": false,
     "start_time": "2023-02-06T18:34:24.479115",
     "status": "completed"
    },
    "tags": []
   },
   "source": [
    "### Ditribución de la variable objetivo"
   ]
  },
  {
   "cell_type": "markdown",
   "id": "8a00bd16",
   "metadata": {
    "papermill": {
     "duration": 0.010445,
     "end_time": "2023-02-06T18:34:24.505583",
     "exception": false,
     "start_time": "2023-02-06T18:34:24.495138",
     "status": "completed"
    },
    "tags": []
   },
   "source": [
    "Se observa la distribución inicial de la clase objetivo. Se trata de un dataset bastante desbalanceado."
   ]
  },
  {
   "cell_type": "code",
   "execution_count": 6,
   "id": "de920856",
   "metadata": {
    "execution": {
     "iopub.execute_input": "2023-02-06T18:34:24.527067Z",
     "iopub.status.busy": "2023-02-06T18:34:24.526235Z",
     "iopub.status.idle": "2023-02-06T18:34:24.783785Z",
     "shell.execute_reply": "2023-02-06T18:34:24.782381Z"
    },
    "papermill": {
     "duration": 0.269265,
     "end_time": "2023-02-06T18:34:24.786599",
     "exception": false,
     "start_time": "2023-02-06T18:34:24.517334",
     "status": "completed"
    },
    "tags": []
   },
   "outputs": [
    {
     "data": {
      "text/plain": [
       "[Text(0, 0, '4861'), Text(0, 0, '249')]"
      ]
     },
     "execution_count": 6,
     "metadata": {},
     "output_type": "execute_result"
    },
    {
     "data": {
      "image/png": "[encoded data removed]",
      "text/plain": [
       "<Figure size 432x288 with 1 Axes>"
      ]
     },
     "metadata": {},
     "output_type": "display_data"
    }
   ],
   "source": [
    "ax = sns.countplot(x='stroke', data=stroke_df)\n",
    "ax.bar_label(ax.containers[0])"
   ]
  },
  {
   "cell_type": "markdown",
   "id": "d644b355",
   "metadata": {
    "papermill": {
     "duration": 0.00747,
     "end_time": "2023-02-06T18:34:24.802325",
     "exception": false,
     "start_time": "2023-02-06T18:34:24.794855",
     "status": "completed"
    },
    "tags": []
   },
   "source": [
    "### Variables continuas solas"
   ]
  },
  {
   "cell_type": "markdown",
   "id": "c116e335",
   "metadata": {
    "papermill": {
     "duration": 0.007355,
     "end_time": "2023-02-06T18:34:24.817331",
     "exception": false,
     "start_time": "2023-02-06T18:34:24.809976",
     "status": "completed"
    },
    "tags": []
   },
   "source": [
    "Realizando una descripción inicial de las variables cuantitativas:\n",
    "- age: su valor mínimo es 0.08 (en años), lo que significa que existen observaciones que presentan edades en meses\n",
    "- avg_glucose_level: parece mostrar un valor máximo muy alto y también un mínimo bastante bajo (estudiarlo)\n",
    "- bmi: posibilidad de la existencia de outliers, valores máximos y mínimos extremos. Además, de que presenta valores perdidos."
   ]
  },
  {
   "cell_type": "code",
   "execution_count": 7,
   "id": "fcdfa697",
   "metadata": {
    "execution": {
     "iopub.execute_input": "2023-02-06T18:34:24.835119Z",
     "iopub.status.busy": "2023-02-06T18:34:24.834648Z",
     "iopub.status.idle": "2023-02-06T18:34:24.873202Z",
     "shell.execute_reply": "2023-02-06T18:34:24.871921Z"
    },
    "papermill": {
     "duration": 0.050691,
     "end_time": "2023-02-06T18:34:24.875941",
     "exception": false,
     "start_time": "2023-02-06T18:34:24.825250",
     "status": "completed"
    },
    "tags": []
   },
   "outputs": [
    {
     "data": {
      "text/html": [
       "<div>\n",
       "<style scoped>\n",
       "    .dataframe tbody tr th:only-of-type {\n",
       "        vertical-align: middle;\n",
       "    }\n",
       "\n",
       "    .dataframe tbody tr th {\n",
       "        vertical-align: top;\n",
       "    }\n",
       "\n",
       "    .dataframe thead th {\n",
       "        text-align: right;\n",
       "    }\n",
       "</style>\n",
       "<table border=\"1\" class=\"dataframe\">\n",
       "  <thead>\n",
       "    <tr style=\"text-align: right;\">\n",
       "      <th></th>\n",
       "      <th>age</th>\n",
       "      <th>hypertension</th>\n",
       "      <th>heart_disease</th>\n",
       "      <th>avg_glucose_level</th>\n",
       "      <th>bmi</th>\n",
       "      <th>stroke</th>\n",
       "    </tr>\n",
       "  </thead>\n",
       "  <tbody>\n",
       "    <tr>\n",
       "      <th>count</th>\n",
       "      <td>5110.000000</td>\n",
       "      <td>5110.000000</td>\n",
       "      <td>5110.000000</td>\n",
       "      <td>5110.000000</td>\n",
       "      <td>4909.000000</td>\n",
       "      <td>5110.000000</td>\n",
       "    </tr>\n",
       "    <tr>\n",
       "      <th>mean</th>\n",
       "      <td>43.226614</td>\n",
       "      <td>0.097456</td>\n",
       "      <td>0.054012</td>\n",
       "      <td>106.147677</td>\n",
       "      <td>28.893237</td>\n",
       "      <td>0.048728</td>\n",
       "    </tr>\n",
       "    <tr>\n",
       "      <th>std</th>\n",
       "      <td>22.612647</td>\n",
       "      <td>0.296607</td>\n",
       "      <td>0.226063</td>\n",
       "      <td>45.283560</td>\n",
       "      <td>7.854067</td>\n",
       "      <td>0.215320</td>\n",
       "    </tr>\n",
       "    <tr>\n",
       "      <th>min</th>\n",
       "      <td>0.080000</td>\n",
       "      <td>0.000000</td>\n",
       "      <td>0.000000</td>\n",
       "      <td>55.120000</td>\n",
       "      <td>10.300000</td>\n",
       "      <td>0.000000</td>\n",
       "    </tr>\n",
       "    <tr>\n",
       "      <th>25%</th>\n",
       "      <td>25.000000</td>\n",
       "      <td>0.000000</td>\n",
       "      <td>0.000000</td>\n",
       "      <td>77.245000</td>\n",
       "      <td>23.500000</td>\n",
       "      <td>0.000000</td>\n",
       "    </tr>\n",
       "    <tr>\n",
       "      <th>50%</th>\n",
       "      <td>45.000000</td>\n",
       "      <td>0.000000</td>\n",
       "      <td>0.000000</td>\n",
       "      <td>91.885000</td>\n",
       "      <td>28.100000</td>\n",
       "      <td>0.000000</td>\n",
       "    </tr>\n",
       "    <tr>\n",
       "      <th>75%</th>\n",
       "      <td>61.000000</td>\n",
       "      <td>0.000000</td>\n",
       "      <td>0.000000</td>\n",
       "      <td>114.090000</td>\n",
       "      <td>33.100000</td>\n",
       "      <td>0.000000</td>\n",
       "    </tr>\n",
       "    <tr>\n",
       "      <th>max</th>\n",
       "      <td>82.000000</td>\n",
       "      <td>1.000000</td>\n",
       "      <td>1.000000</td>\n",
       "      <td>271.740000</td>\n",
       "      <td>97.600000</td>\n",
       "      <td>1.000000</td>\n",
       "    </tr>\n",
       "  </tbody>\n",
       "</table>\n",
       "</div>"
      ],
      "text/plain": [
       "               age  hypertension  heart_disease  avg_glucose_level  \\\n",
       "count  5110.000000   5110.000000    5110.000000        5110.000000   \n",
       "mean     43.226614      0.097456       0.054012         106.147677   \n",
       "std      22.612647      0.296607       0.226063          45.283560   \n",
       "min       0.080000      0.000000       0.000000          55.120000   \n",
       "25%      25.000000      0.000000       0.000000          77.245000   \n",
       "50%      45.000000      0.000000       0.000000          91.885000   \n",
       "75%      61.000000      0.000000       0.000000         114.090000   \n",
       "max      82.000000      1.000000       1.000000         271.740000   \n",
       "\n",
       "               bmi       stroke  \n",
       "count  4909.000000  5110.000000  \n",
       "mean     28.893237     0.048728  \n",
       "std       7.854067     0.215320  \n",
       "min      10.300000     0.000000  \n",
       "25%      23.500000     0.000000  \n",
       "50%      28.100000     0.000000  \n",
       "75%      33.100000     0.000000  \n",
       "max      97.600000     1.000000  "
      ]
     },
     "execution_count": 7,
     "metadata": {},
     "output_type": "execute_result"
    }
   ],
   "source": [
    "stroke_df.describe()"
   ]
  },
  {
   "cell_type": "markdown",
   "id": "75092f80",
   "metadata": {
    "papermill": {
     "duration": 0.007826,
     "end_time": "2023-02-06T18:34:24.892033",
     "exception": false,
     "start_time": "2023-02-06T18:34:24.884207",
     "status": "completed"
    },
    "tags": []
   },
   "source": [
    "Distribución de la variable age\n",
    "- No parecen existir outliers en la variable\n",
    "- No sigue una forma (parecida) a una normal, pero da igual ya que estaos haciendo un anáslis básico y probaremos diferentes algoritmos de machine learning"
   ]
  },
  {
   "cell_type": "code",
   "execution_count": 8,
   "id": "822e751a",
   "metadata": {
    "execution": {
     "iopub.execute_input": "2023-02-06T18:34:24.910360Z",
     "iopub.status.busy": "2023-02-06T18:34:24.909863Z",
     "iopub.status.idle": "2023-02-06T18:34:25.262189Z",
     "shell.execute_reply": "2023-02-06T18:34:25.260530Z"
    },
    "papermill": {
     "duration": 0.36537,
     "end_time": "2023-02-06T18:34:25.265477",
     "exception": false,
     "start_time": "2023-02-06T18:34:24.900107",
     "status": "completed"
    },
    "tags": []
   },
   "outputs": [
    {
     "data": {
      "text/plain": [
       "<AxesSubplot:xlabel='age', ylabel='Count'>"
      ]
     },
     "execution_count": 8,
     "metadata": {},
     "output_type": "execute_result"
    },
    {
     "data": {
      "image/png": "[encoded data removed]",
      "text/plain": [
       "<Figure size 432x288 with 1 Axes>"
      ]
     },
     "metadata": {},
     "output_type": "display_data"
    }
   ],
   "source": [
    "sns.histplot(data=stroke_df, x=\"age\", kde=True)"
   ]
  },
  {
   "cell_type": "markdown",
   "id": "9b4d05f9",
   "metadata": {
    "papermill": {
     "duration": 0.00849,
     "end_time": "2023-02-06T18:34:25.283320",
     "exception": false,
     "start_time": "2023-02-06T18:34:25.274830",
     "status": "completed"
    },
    "tags": []
   },
   "source": [
    "Posibles outliers en la variable age. No se detectan posibles outliers en la variable age."
   ]
  },
  {
   "cell_type": "code",
   "execution_count": 9,
   "id": "5f498dc7",
   "metadata": {
    "execution": {
     "iopub.execute_input": "2023-02-06T18:34:25.302994Z",
     "iopub.status.busy": "2023-02-06T18:34:25.302499Z",
     "iopub.status.idle": "2023-02-06T18:34:25.521204Z",
     "shell.execute_reply": "2023-02-06T18:34:25.520058Z"
    },
    "papermill": {
     "duration": 0.231806,
     "end_time": "2023-02-06T18:34:25.523763",
     "exception": false,
     "start_time": "2023-02-06T18:34:25.291957",
     "status": "completed"
    },
    "tags": []
   },
   "outputs": [
    {
     "data": {
      "text/plain": [
       "<AxesSubplot:xlabel='age'>"
      ]
     },
     "execution_count": 9,
     "metadata": {},
     "output_type": "execute_result"
    },
    {
     "data": {
      "image/png": "[encoded data removed]",
      "text/plain": [
       "<Figure size 432x288 with 1 Axes>"
      ]
     },
     "metadata": {},
     "output_type": "display_data"
    }
   ],
   "source": [
    "sns.boxplot(x=stroke_df[\"age\"])"
   ]
  },
  {
   "cell_type": "markdown",
   "id": "09ef3893",
   "metadata": {
    "papermill": {
     "duration": 0.00845,
     "end_time": "2023-02-06T18:34:25.541035",
     "exception": false,
     "start_time": "2023-02-06T18:34:25.532585",
     "status": "completed"
    },
    "tags": []
   },
   "source": [
    "Distribución de la variable avg_glucose_level"
   ]
  },
  {
   "cell_type": "code",
   "execution_count": 10,
   "id": "623b755d",
   "metadata": {
    "execution": {
     "iopub.execute_input": "2023-02-06T18:34:25.560502Z",
     "iopub.status.busy": "2023-02-06T18:34:25.560070Z",
     "iopub.status.idle": "2023-02-06T18:34:25.962260Z",
     "shell.execute_reply": "2023-02-06T18:34:25.961263Z"
    },
    "papermill": {
     "duration": 0.415203,
     "end_time": "2023-02-06T18:34:25.965011",
     "exception": false,
     "start_time": "2023-02-06T18:34:25.549808",
     "status": "completed"
    },
    "tags": []
   },
   "outputs": [
    {
     "data": {
      "text/plain": [
       "<AxesSubplot:xlabel='avg_glucose_level', ylabel='Count'>"
      ]
     },
     "execution_count": 10,
     "metadata": {},
     "output_type": "execute_result"
    },
    {
     "data": {
      "image/png": "[encoded data removed]",
      "text/plain": [
       "<Figure size 432x288 with 1 Axes>"
      ]
     },
     "metadata": {},
     "output_type": "display_data"
    }
   ],
   "source": [
    "sns.histplot(data=stroke_df, x=\"avg_glucose_level\", kde=True)"
   ]
  },
  {
   "cell_type": "markdown",
   "id": "abed3ffd",
   "metadata": {
    "papermill": {
     "duration": 0.008968,
     "end_time": "2023-02-06T18:34:25.983870",
     "exception": false,
     "start_time": "2023-02-06T18:34:25.974902",
     "status": "completed"
    },
    "tags": []
   },
   "source": [
    "Se observan un número alto de observaciones (casi el 12%) que se encuentra por arriba de upper_bound. Esto indica que es posible la existencia de dichos valores lejanos en el dataset analizado.\n",
    "\n",
    "Puede ser que valores muy altos de dichas variables significen un valor 1 en la variable objetivo a predecir, lo probaremos más adelante.\n",
    "\n",
    "**Cosas a probar**:\n",
    "- cambiar escala de la variable, estandarización ¿reduce la cantidad de outliers?"
   ]
  },
  {
   "cell_type": "code",
   "execution_count": 11,
   "id": "3bcd3add",
   "metadata": {
    "execution": {
     "iopub.execute_input": "2023-02-06T18:34:26.004662Z",
     "iopub.status.busy": "2023-02-06T18:34:26.003952Z",
     "iopub.status.idle": "2023-02-06T18:34:26.221439Z",
     "shell.execute_reply": "2023-02-06T18:34:26.220187Z"
    },
    "papermill": {
     "duration": 0.23086,
     "end_time": "2023-02-06T18:34:26.223972",
     "exception": false,
     "start_time": "2023-02-06T18:34:25.993112",
     "status": "completed"
    },
    "tags": []
   },
   "outputs": [
    {
     "data": {
      "text/plain": [
       "<AxesSubplot:xlabel='avg_glucose_level'>"
      ]
     },
     "execution_count": 11,
     "metadata": {},
     "output_type": "execute_result"
    },
    {
     "data": {
      "image/png": "[encoded data removed]",
      "text/plain": [
       "<Figure size 432x288 with 1 Axes>"
      ]
     },
     "metadata": {},
     "output_type": "display_data"
    }
   ],
   "source": [
    "sns.boxplot(x=stroke_df[\"avg_glucose_level\"])"
   ]
  },
  {
   "cell_type": "code",
   "execution_count": 12,
   "id": "20aff9fe",
   "metadata": {
    "execution": {
     "iopub.execute_input": "2023-02-06T18:34:26.245935Z",
     "iopub.status.busy": "2023-02-06T18:34:26.244451Z",
     "iopub.status.idle": "2023-02-06T18:34:26.256720Z",
     "shell.execute_reply": "2023-02-06T18:34:26.255276Z"
    },
    "papermill": {
     "duration": 0.027227,
     "end_time": "2023-02-06T18:34:26.260599",
     "exception": false,
     "start_time": "2023-02-06T18:34:26.233372",
     "status": "completed"
    },
    "tags": []
   },
   "outputs": [
    {
     "name": "stdout",
     "output_type": "stream",
     "text": [
      "IQR: 36.845 \n",
      "upper: 169.35750000000002 \n",
      "lower: 21.977500000000006\n",
      "\n",
      "Posible Outliers: 627\n"
     ]
    }
   ],
   "source": [
    "# finding the 1st quartile\n",
    "q1 = np.quantile(stroke_df.avg_glucose_level, 0.25)\n",
    " \n",
    "# finding the 3rd quartile\n",
    "q3 = np.quantile(stroke_df.avg_glucose_level, 0.75)\n",
    " \n",
    "# finding the iqr region\n",
    "iqr = q3-q1\n",
    " \n",
    "# finding upper and lower whiskers\n",
    "upper_bound = q3+(1.5*iqr)\n",
    "lower_bound = q1-(1.5*iqr)\n",
    "print(\"IQR:\", iqr, \"\\nupper:\", upper_bound, \"\\nlower:\", lower_bound)\n",
    "\n",
    "print(\"\\nPosible Outliers:\", (stroke_df[stroke_df.avg_glucose_level > upper_bound]).shape[0])"
   ]
  },
  {
   "cell_type": "markdown",
   "id": "2598f27a",
   "metadata": {
    "papermill": {
     "duration": 0.009471,
     "end_time": "2023-02-06T18:34:26.280128",
     "exception": false,
     "start_time": "2023-02-06T18:34:26.270657",
     "status": "completed"
    },
    "tags": []
   },
   "source": [
    "Distribución de la variable bmi"
   ]
  },
  {
   "cell_type": "code",
   "execution_count": 13,
   "id": "39b07ba5",
   "metadata": {
    "execution": {
     "iopub.execute_input": "2023-02-06T18:34:26.301422Z",
     "iopub.status.busy": "2023-02-06T18:34:26.300593Z",
     "iopub.status.idle": "2023-02-06T18:34:26.720815Z",
     "shell.execute_reply": "2023-02-06T18:34:26.719270Z"
    },
    "papermill": {
     "duration": 0.434477,
     "end_time": "2023-02-06T18:34:26.723966",
     "exception": false,
     "start_time": "2023-02-06T18:34:26.289489",
     "status": "completed"
    },
    "tags": []
   },
   "outputs": [
    {
     "data": {
      "text/plain": [
       "<AxesSubplot:xlabel='bmi', ylabel='Count'>"
      ]
     },
     "execution_count": 13,
     "metadata": {},
     "output_type": "execute_result"
    },
    {
     "data": {
      "image/png": "[encoded data removed]",
      "text/plain": [
       "<Figure size 432x288 with 1 Axes>"
      ]
     },
     "metadata": {},
     "output_type": "display_data"
    }
   ],
   "source": [
    "sns.histplot(data=stroke_df, x=\"bmi\", kde=True)"
   ]
  },
  {
   "cell_type": "markdown",
   "id": "a863aaeb",
   "metadata": {
    "papermill": {
     "duration": 0.011951,
     "end_time": "2023-02-06T18:34:26.746020",
     "exception": false,
     "start_time": "2023-02-06T18:34:26.734069",
     "status": "completed"
    },
    "tags": []
   },
   "source": [
    "Se observan que existen observaciones que se encuentra por arriba de upper_bound. Esto indica que es posible la existencia de dichos valores lejanos en el dataset analizado.\n",
    "\n",
    "Puede ser que valores muy altos de dichas variables significen un valor 1 en la variable objetivo a predecir, lo probaremos más adelante.\n",
    "\n",
    "**Cosas a probar**:\n",
    "\n",
    "- cambiar escala de la variable, estandarización ¿reduce la cantidad de outliers?"
   ]
  },
  {
   "cell_type": "code",
   "execution_count": 14,
   "id": "2bd0a925",
   "metadata": {
    "execution": {
     "iopub.execute_input": "2023-02-06T18:34:26.768518Z",
     "iopub.status.busy": "2023-02-06T18:34:26.767295Z",
     "iopub.status.idle": "2023-02-06T18:34:26.778615Z",
     "shell.execute_reply": "2023-02-06T18:34:26.777120Z"
    },
    "papermill": {
     "duration": 0.025385,
     "end_time": "2023-02-06T18:34:26.781333",
     "exception": false,
     "start_time": "2023-02-06T18:34:26.755948",
     "status": "completed"
    },
    "tags": []
   },
   "outputs": [
    {
     "name": "stdout",
     "output_type": "stream",
     "text": [
      "IQR: 9.600000000000001 \n",
      "upper: 47.5 \n",
      "lower: 9.099999999999998\n",
      "\n",
      "Posible Outliers: 110\n"
     ]
    }
   ],
   "source": [
    "# finding the 1st quartile\n",
    "q1 = np.nanquantile(stroke_df.bmi, 0.25)\n",
    " \n",
    "# finding the 3rd quartile\n",
    "q3 = np.nanquantile(stroke_df.bmi, 0.75)\n",
    " \n",
    "# finding the iqr region\n",
    "iqr = q3-q1\n",
    " \n",
    "# finding upper and lower whiskers\n",
    "upper_bound = q3+(1.5*iqr)\n",
    "lower_bound = q1-(1.5*iqr)\n",
    "print(\"IQR:\", iqr, \"\\nupper:\", upper_bound, \"\\nlower:\", lower_bound)\n",
    "\n",
    "print(\"\\nPosible Outliers:\", (stroke_df[stroke_df.bmi > upper_bound]).shape[0])"
   ]
  },
  {
   "cell_type": "code",
   "execution_count": 15,
   "id": "ebd39d1c",
   "metadata": {
    "execution": {
     "iopub.execute_input": "2023-02-06T18:34:26.805231Z",
     "iopub.status.busy": "2023-02-06T18:34:26.803744Z",
     "iopub.status.idle": "2023-02-06T18:34:27.016943Z",
     "shell.execute_reply": "2023-02-06T18:34:27.016023Z"
    },
    "papermill": {
     "duration": 0.227646,
     "end_time": "2023-02-06T18:34:27.019561",
     "exception": false,
     "start_time": "2023-02-06T18:34:26.791915",
     "status": "completed"
    },
    "tags": []
   },
   "outputs": [
    {
     "data": {
      "text/plain": [
       "<AxesSubplot:xlabel='bmi'>"
      ]
     },
     "execution_count": 15,
     "metadata": {},
     "output_type": "execute_result"
    },
    {
     "data": {
      "image/png": "[encoded data removed]",
      "text/plain": [
       "<Figure size 432x288 with 1 Axes>"
      ]
     },
     "metadata": {},
     "output_type": "display_data"
    }
   ],
   "source": [
    "sns.boxplot(x=stroke_df[\"bmi\"])"
   ]
  }
 ],
 "metadata": {
  "kernelspec": {
   "display_name": "Python 3",
   "language": "python",
   "name": "python3"
  },
  "language_info": {
   "codemirror_mode": {
    "name": "ipython",
    "version": 3
   },
   "file_extension": ".py",
   "mimetype": "text/x-python",
   "name": "python",
   "nbconvert_exporter": "python",
   "pygments_lexer": "ipython3",
   "version": "3.7.12"
  },
  "papermill": {
   "default_parameters": {},
   "duration": 14.602335,
   "end_time": "2023-02-06T18:34:28.055346",
   "environment_variables": {},
   "exception": null,
   "input_path": "__notebook__.ipynb",
   "output_path": "__notebook__.ipynb",
   "parameters": {},
   "start_time": "2023-02-06T18:34:13.453011",
   "version": "2.3.4"
  }
 },
 "nbformat": 4,
 "nbformat_minor": 5
}
